{
 "cells": [
  {
   "cell_type": "markdown",
   "metadata": {},
   "source": [
    "# Udemy Course: Python A-Z\n",
    "## Section 2: Core Programming Principles\n",
    "### Project: Law of Large Numbers\n",
    "R Programming A-Z™ \n",
    "© Kirill Eremenko\n",
    "https://www.superdatascience.com\n",
    "_\n",
    "This notebook contains the homework from section 2 of the course"
   ]
  },
  {
   "cell_type": "markdown",
   "metadata": {},
   "source": [
    "\n",
    "we need to first import numpy package inorder to use random number function"
   ]
  },
  {
   "cell_type": "markdown",
   "metadata": {},
   "source": [
    "Project:\n",
    "\n",
    "Test the Law Of Large Numbers for N random normally distributed numbers with mean = 0, stdev = 1:\n",
    "Create a Python script that will count how many of these numbers fall between -1 and 1 and divide by the total quantity of N\n",
    " \n",
    " You know that E(X) = 68.2%\n",
    " \n",
    "Check that Mean(XN) -> E(X) as you rerun your script while increasing N"
   ]
  },
  {
   "cell_type": "code",
   "execution_count": 11,
   "metadata": {},
   "outputs": [
    {
     "data": {
      "text/plain": [
       "0.714"
      ]
     },
     "execution_count": 11,
     "metadata": {},
     "output_type": "execute_result"
    }
   ],
   "source": [
    "import numpy as np\n",
    "from numpy.random import randn\n",
    "\n",
    "#first generate 100 random values\n",
    "randn(100)\n",
    "\n",
    "#here we want to check if out number falls between 1- and + 1\n",
    "#now increase from 100 to 1000\n",
    "\n",
    "N = 1000\n",
    "counter = 0\n",
    "for i in randn(N):\n",
    "    if (i > -1 and i < 1): #the bracket doesn't affect the \n",
    "        counter = counter + 1\n",
    "counter/N\n",
    "\n",
    "#here the number is starting to converge to 0.68"
   ]
  }
 ],
 "metadata": {
  "kernelspec": {
   "display_name": "Python 3",
   "language": "python",
   "name": "python3"
  },
  "language_info": {
   "codemirror_mode": {
    "name": "ipython",
    "version": 3
   },
   "file_extension": ".py",
   "mimetype": "text/x-python",
   "name": "python",
   "nbconvert_exporter": "python",
   "pygments_lexer": "ipython3",
   "version": "3.7.1"
  }
 },
 "nbformat": 4,
 "nbformat_minor": 2
}
